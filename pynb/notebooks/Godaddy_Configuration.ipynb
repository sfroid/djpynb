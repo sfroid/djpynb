{
 "metadata": {
  "name": "Godaddy_Configuration"
 },
 "nbformat": 3,
 "nbformat_minor": 0,
 "worksheets": [
  {
   "cells": [
    {
     "cell_type": "markdown",
     "metadata": {},
     "source": [
      "<h1>Configuring new domain on GoDaddy</h1><hr />"
     ]
    },
    {
     "cell_type": "markdown",
     "metadata": {},
     "source": [
      "<h3>Setting up the DNS zone file</h3>\n",
      "\n",
      "Log into godaddy account using the customer # and password and head for the DNS zone file.\n",
      "\n",
      "<!---\n",
      "1. Random experiments - (61751082, UUL)\n",
      "2. Csproto.net (54832272, UUU)\n",
      "--> \n",
      "\n",
      "Click the Edit button to change the entries (opens new page).\n",
      "Now, click on the ip address against the '@' under the A(host) table entry.\n",
      "\n",
      "1. Set the '@' entry to your server's ip address. <!-- (169.229.120.166) -->\n",
      "2. Change the email 'Points to' field to the value '@' (not the ip address)\n",
      "3. Do the same for ftp, imap, mail, pop, smtp and www.\n",
      "4. Also change the MX (Mail Exchanger) fields to point to '@'\n",
      "5. Click on \"Save Zone File\" at the bottom of the page.\n",
      "\n",
      "That's it - you are done. Enjoy the traffic to your new server."
     ]
    }
   ],
   "metadata": {}
  }
 ]
}