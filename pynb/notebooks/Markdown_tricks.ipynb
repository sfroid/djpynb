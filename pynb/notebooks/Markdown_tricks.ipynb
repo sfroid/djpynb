{
 "metadata": {
  "name": ""
 },
 "nbformat": 3,
 "nbformat_minor": 0,
 "worksheets": [
  {
   "cells": [
    {
     "cell_type": "markdown",
     "metadata": {},
     "source": [
      "<h1>Markdown crash course</h1><hr />"
     ]
    },
    {
     "cell_type": "markdown",
     "metadata": {},
     "source": [
      "<h2>Lets talk headers</h2>\n",
      "The tags h1 to h6 define different headers.\n",
      "Or we can just use #s at the beginning of the line to denote headers.\n",
      "One # is h1, ## is h2 and so on.\n",
      "\n",
      "<h1>h1 looks like this</h1>\n",
      "<h2>h2 is this</h2>\n",
      "<h3>h3 renders like this</h3>\n",
      "<h4>h4 - apparently there is one</h4>\n",
      "<h5>h5 - does this exist too</h5>\n",
      "<h6>h6 - oh no... not any more please</h6>\n",
      "<h7>h7 - anyone home? Actually no - there is no h7</h7>\n"
     ]
    },
    {
     "cell_type": "markdown",
     "metadata": {},
     "source": [
      "<h2>Blockquotes</h2>\n",
      "Use > at the beginning of the line to blockquote.\n",
      "\n",
      "> This is a blockqoute\n",
      ">\n",
      "> hope it looks nice<br />\n",
      ">\n",
      "> Ah, it does\n"
     ]
    },
    {
     "cell_type": "markdown",
     "metadata": {},
     "source": [
      "<h2>Types of emphasis</h2>\n",
      "Use a \\* around words \\* for emphasis.\n",
      "We can also use _ for emphasis around words.\n",
      "\n",
      "End of this sentence is *emphasized*.\n",
      "*This whole sentence is emph*.\n",
      "\n",
      "Using two consecutive asterixes gives **this kind of output**.\n",
      "\n",
      "Use two consecutive ~s to achieve ~~strikethrough~~ effect."
     ]
    },
    {
     "cell_type": "markdown",
     "metadata": {},
     "source": [
      "<h2>Lets try some lists</h2>\n",
      "\n",
      "\\*, \\+ and \\- all produce an unordered list of this sort...\n",
      "\n",
      "+ item 1\n",
      "+ item 2\n",
      "* item 3\n",
      "* item 4\n",
      "\n",
      "Use numbers followed by '.' to form ordered lists...\n",
      "\n",
      "1. One\n",
      "2. Two\n",
      "3. Three\n"
     ]
    },
    {
     "cell_type": "markdown",
     "metadata": {},
     "source": [
      "<h2>Links or hyperlinks</h2>\n",
      "Enclose text in square brackers followed by the link address in parentheses \\[link to google\\]\\(http://www.google.com\\)\n",
      "\n",
      "This creates the following [link to google](http://www.google.com)\n"
     ]
    },
    {
     "cell_type": "markdown",
     "metadata": {},
     "source": []
    }
   ],
   "metadata": {}
  }
 ]
}