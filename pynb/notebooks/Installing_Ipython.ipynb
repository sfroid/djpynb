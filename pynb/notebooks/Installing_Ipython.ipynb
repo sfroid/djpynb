{
 "metadata": {
  "name": ""
 },
 "nbformat": 3,
 "nbformat_minor": 0,
 "worksheets": [
  {
   "cells": [
    {
     "cell_type": "markdown",
     "metadata": {},
     "source": [
      "<h3>Last tried on 17th Feb 2014</h3>\n",
      "\n",
      "\n",
      "    pip install ipython[all]\n",
      "\n",
      "    pip install numpy\n",
      "    \n",
      "    sudo apt-get install -y libfreetype6 libfreetype6-dev libpng12-0 libpng12-dev\n",
      "\n",
      "    pip install matplotlib\n",
      "    \n"
     ]
    }
   ],
   "metadata": {}
  }
 ]
}