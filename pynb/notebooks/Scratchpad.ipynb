{
 "metadata": {
  "name": "Scratchpad"
 },
 "nbformat": 3,
 "nbformat_minor": 0,
 "worksheets": [
  {
   "cells": [
    {
     "cell_type": "markdown",
     "metadata": {},
     "source": [
      "<h1>Woohoo... first notebook!</h1><hr />\n",
      "\n",
      "Pretty cool, hey."
     ]
    },
    {
     "cell_type": "code",
     "collapsed": false,
     "input": [
      "a, b = 1, 1\n",
      "print a,\n",
      "print b,\n",
      "for x in xrange(9):\n",
      "    a, b = b, a+b\n",
      "    print b, \n"
     ],
     "language": "python",
     "metadata": {},
     "outputs": [
      {
       "output_type": "stream",
       "stream": "stdout",
       "text": [
        "1 1 2 3 5 8 13 21 34 55 89\n"
       ]
      }
     ],
     "prompt_number": 1
    },
    {
     "cell_type": "code",
     "collapsed": false,
     "input": [
      "[x+0.01 for x in range(0, 15000, 1000)]\n"
     ],
     "language": "python",
     "metadata": {},
     "outputs": [
      {
       "metadata": {},
       "output_type": "pyout",
       "prompt_number": 2,
       "text": [
        "[0.01,\n",
        " 1000.01,\n",
        " 2000.01,\n",
        " 3000.01,\n",
        " 4000.01,\n",
        " 5000.01,\n",
        " 6000.01,\n",
        " 7000.01,\n",
        " 8000.01,\n",
        " 9000.01,\n",
        " 10000.01,\n",
        " 11000.01,\n",
        " 12000.01,\n",
        " 13000.01,\n",
        " 14000.01]"
       ]
      }
     ],
     "prompt_number": 2
    },
    {
     "cell_type": "code",
     "collapsed": false,
     "input": [
      "from pylab import *\n",
      "\n",
      "x = linspace(-5, 5, 1000)\n",
      "y = 1.0/exp(1/(1*x**2))\n",
      "\n",
      "figure()\n",
      "plot(x, y, 'r')\n",
      "xlabel('x')\n",
      "ylabel('y')\n",
      "title('title')\n",
      "show()"
     ],
     "language": "python",
     "metadata": {},
     "outputs": [
      {
       "metadata": {},
       "output_type": "display_data",
       "png": "[encoded data removed]",
       "text": [
        "<matplotlib.figure.Figure at 0x335cad0>"
       ]
      }
     ],
     "prompt_number": 3
    },
    {
     "cell_type": "code",
     "collapsed": false,
     "input": [
      "from IPython.display import HTML\n",
      "s = \"\"\"<table>\n",
      "<tr>\n",
      "<th>Header 1</th>\n",
      "<th>Header 2</th>\n",
      "</tr>\n",
      "<tr>\n",
      "<td>row 1, cell 1</td>\n",
      "<td>row 1, cell 2</td>\n",
      "</tr>\n",
      "<tr>\n",
      "<td>row 2, cell 1</td>\n",
      "<td>row 2, cell 2</td>\n",
      "</tr>\n",
      "</table>\"\"\"\n",
      "\n",
      "h = HTML(s); h"
     ],
     "language": "python",
     "metadata": {},
     "outputs": [
      {
       "html": [
        "<table>\n",
        "<tr>\n",
        "<th>Header 1</th>\n",
        "<th>Header 2</th>\n",
        "</tr>\n",
        "<tr>\n",
        "<td>row 1, cell 1</td>\n",
        "<td>row 1, cell 2</td>\n",
        "</tr>\n",
        "<tr>\n",
        "<td>row 2, cell 1</td>\n",
        "<td>row 2, cell 2</td>\n",
        "</tr>\n",
        "</table>"
       ],
       "metadata": {},
       "output_type": "pyout",
       "prompt_number": 4,
       "text": [
        "<IPython.core.display.HTML at 0x3383b10>"
       ]
      }
     ],
     "prompt_number": 4
    },
    {
     "cell_type": "code",
     "collapsed": false,
     "input": [
      "s = \"abcdcdcdc\"\n",
      "p = \"cdc\"\n",
      "\n",
      "done = False\n",
      "count = start = 0\n",
      "\n",
      "while done is False:\n",
      "    idx = s.find(p, start)\n",
      "    if idx > 0:\n",
      "        count += 1\n",
      "        start = idx + 1\n",
      "    else:\n",
      "        break\n",
      "        \n",
      "print count + 1\n"
     ],
     "language": "python",
     "metadata": {},
     "outputs": [
      {
       "output_type": "stream",
       "stream": "stdout",
       "text": [
        "4\n"
       ]
      }
     ],
     "prompt_number": 5
    },
    {
     "cell_type": "code",
     "collapsed": false,
     "input": [
      "from itertools import combinations_with_replacement\n",
      "\n",
      "\n",
      "def bisect_reverse_right(a, x, lo=0, hi=None):\n",
      "    if lo < 0:\n",
      "        raise ValueError('lo must be non-negative')\n",
      "    if hi is None:\n",
      "        hi = len(a)\n",
      "    while lo < hi:\n",
      "        mid = (lo+hi)//2\n",
      "        if a[mid] >= x: lo = mid+1\n",
      "        else: hi = mid\n",
      "    return lo\n",
      "\n",
      "def index_right(a, x):\n",
      "    'Locate the leftmost value exactly equal to x'\n",
      "    i = bisect_reverse_right(a, x)\n",
      "    if i <= len(a) and a[i-1] == x:\n",
      "        return i-1\n",
      "    \n",
      "    print a, x, i\n",
      "    raise ValueError\n",
      "    \n",
      "def decipher_seq(sums, N, k):\n",
      "    sortedSums = sorted(sums, reverse=True)\n",
      "    first = sortedSums[-1]/k\n",
      "    sortedSums.pop()\n",
      "    guesses = [first]\n",
      "    \n",
      "    if N == 1:\n",
      "        return guesses\n",
      "    else:\n",
      "        while len(guesses) < N:\n",
      "            nextnum = sortedSums[-1] - first*(k-1)\n",
      "            guesses.append(nextnum)\n",
      "            if len(guesses) == N:\n",
      "                return guesses\n",
      "            else:\n",
      "                # remove all numbers that we can remove from sortedSums\n",
      "                last = nextnum\n",
      "                for z1 in range(k-1, 0, -1):\n",
      "                    for z2 in combinations_with_replacement(guesses[:-1], z1):\n",
      "                        idx = index_right(sortedSums, sum(z2) + last*(k-z1))\n",
      "                        sortedSums.pop(idx)\n",
      "                    \n",
      "                # remove last*k as well\n",
      "                idx = index_right(sortedSums, last*k)\n",
      "                sortedSums.pop(idx)\n",
      "    return None\n",
      "        \n",
      "\n",
      "inp = range(1, 12)\n",
      "NN = len(inp)\n",
      "kk = 4\n",
      "\n",
      "sums = map(lambda x: sum(x), combinations_with_replacement(inp, kk)) \n",
      "\n",
      "print ' '.join(str(y) for y in decipher_seq(sums, NN, kk))\n",
      "    \n",
      "\n"
     ],
     "language": "python",
     "metadata": {},
     "outputs": [
      {
       "output_type": "stream",
       "stream": "stdout",
       "text": [
        "1 2 3 4 5 6 7 8 9 10 11\n"
       ]
      }
     ],
     "prompt_number": 6
    },
    {
     "cell_type": "code",
     "collapsed": false,
     "input": [
      "instr = 'ininini'#raw_input()\n",
      "pat = 'ini'#raw_input()\n",
      "\n",
      "count = start = 0\n",
      "\n",
      "while True:\n",
      "    idx = instr.find(pat, start)\n",
      "    if idx >= 0:\n",
      "        count += 1\n",
      "        start = idx + 1\n",
      "    else:\n",
      "        break\n",
      "        \n",
      "print count"
     ],
     "language": "python",
     "metadata": {},
     "outputs": [
      {
       "output_type": "stream",
       "stream": "stdout",
       "text": [
        "3\n"
       ]
      }
     ],
     "prompt_number": 7
    },
    {
     "cell_type": "code",
     "collapsed": false,
     "input": [
      "import os\n",
      "import shutil"
     ],
     "language": "python",
     "metadata": {},
     "outputs": [],
     "prompt_number": 3
    },
    {
     "cell_type": "code",
     "collapsed": false,
     "input": [
      "os.system(\"rm ../html/*.html\")"
     ],
     "language": "python",
     "metadata": {},
     "outputs": [
      {
       "metadata": {},
       "output_type": "pyout",
       "prompt_number": 4,
       "text": [
        "0"
       ]
      }
     ],
     "prompt_number": 4
    }
   ],
   "metadata": {}
  }
 ]
}