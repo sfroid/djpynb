{
 "metadata": {
  "name": ""
 },
 "nbformat": 3,
 "nbformat_minor": 0,
 "worksheets": [
  {
   "cells": [
    {
     "cell_type": "markdown",
     "metadata": {},
     "source": [
      "<h1>Fixing notebook names</h1><hr />\n",
      "\n",
      "If you have used nbconvert or nbviewer to convert your ipython notebook files to html format, you might have noticed that the title for the html file is missing.\n",
      "\n",
      "Digging in, I found that the html_full template `html_full.tpl` has the field in place and is supposed to be filled from the `nb.metadata.name` field. However, all my notebooks have an empty string in this field.\n",
      "\n",
      "What can we do now? Start debugging....\n",
      "\n",
      "I chased down the issue to the file `lib/python2.7/site-packages/IPython/html/services/notebooks/filenbmanager.py`, line 185\n",
      "\n",
      "```\n",
      "    # Right before we save the notebook, we write an empty string as the\n",
      "    # notebook name in the metadata. This is to prepare for removing\n",
      "    # this attribute entirely post 1.0. The web app still uses the metadata\n",
      "    # name for now.\n",
      "    nb.metadata.name = u''\n",
      "```\n",
      "\n",
      "We are explicitly setting the name field to an *empty string*.\n",
      "\n",
      "The fix is to simply comment out the line and try things out (but not before backing up your existing notebooks).\n",
      "\n",
      "Everything seems to work fine after I finished this surgery... however, being no expert in ipython, I am not sure if everything will continue to be fine. If someone more knowledgeable come across this and feels its the wrong way... do drop me a line at < nag dot rajan at gmail dot com>.\n",
      "\n"
     ]
    },
    {
     "cell_type": "markdown",
     "metadata": {},
     "source": []
    }
   ],
   "metadata": {}
  }
 ]
}