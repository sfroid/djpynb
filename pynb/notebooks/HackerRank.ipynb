{
 "metadata": {
  "name": ""
 },
 "nbformat": 3,
 "nbformat_minor": 0,
 "worksheets": [
  {
   "cells": [
    {
     "cell_type": "markdown",
     "metadata": {},
     "source": []
    },
    {
     "cell_type": "code",
     "collapsed": false,
     "input": [
      "m = 100\n",
      "ar = \"\"\"63 25 73 1 98 73 56 84 86 57 16 83 8 25 81 56 9 53 98 67 99 12 83 89 80 91 39 86 76 85 74 39 25 90 59 10 94 32 44 3 89 30 27 79 46 96 27 32 18 21 92 69 81 40 40 34 68 78 24 87 42 69 23 41 78 22 6 90 99 89 50 30 20 1 43 3 70 95 33 46 44 9 69 48 33 60 65 16 82 67 61 32 21 79 75 75 13 87 70 33\"\"\"\n",
      "ar = [int(x) for x in ar.strip().split()]\n",
      "\n",
      "count_dict = {}\n",
      "for x in ar:\n",
      "    if x in count_dict:\n",
      "        count_dict[x] += 1\n",
      "    else:\n",
      "        count_dict[x] = 1\n",
      "\n",
      "print ' '.join(str(count_dict.get(x,0)) for x in range(100))\n",
      "\n"
     ],
     "language": "python",
     "metadata": {},
     "outputs": [
      {
       "output_type": "stream",
       "stream": "stdout",
       "text": [
        "0 2 0 2 0 0 1 0 1 2 1 0 1 1 0 0 2 0 1 0 1 2 1 1 1 3 0 2 0 0 2 0 3 3 1 0 0 0 0 2 2 1 1 1 2 0 2 0 1 0 1 0 0 1 0 0 2 1 0 1 1 1 0 1 0 1 0 2 1 3 2 0 0 2 1 2 1 0 2 2 1 2 1 2 1 1 2 2 0 3 2 1 1 0 1 1 1 0 2 2\n"
       ]
      }
     ],
     "prompt_number": 3
    },
    {
     "cell_type": "code",
     "collapsed": false,
     "input": [
      "inp = [int(x) for x in \"\"\"10\n",
      "4\n",
      "1\n",
      "2\n",
      "3\n",
      "4\n",
      "10\n",
      "20\n",
      "30\n",
      "40\n",
      "100\n",
      "200\"\"\".split('\\n')]\n",
      "\n",
      "N = inp[0]\n",
      "K = inp[1]\n",
      "ar = inp[2:]\n",
      "\n",
      "munfair = 1e10\n",
      "ar = sorted(ar)\n",
      "for i in range(len(ar) - K + 1):\n",
      "    diff = (ar[i+K-1] - ar[i])\n",
      "    if diff < munfair:\n",
      "        munfair = diff\n",
      "        \n",
      "print munfair\n"
     ],
     "language": "python",
     "metadata": {},
     "outputs": [
      {
       "output_type": "stream",
       "stream": "stdout",
       "text": [
        "3\n"
       ]
      }
     ],
     "prompt_number": 10
    },
    {
     "cell_type": "code",
     "collapsed": false,
     "input": [
      "inp = \"\"\"10\n",
      "8 91\n",
      "18 73 55 59 37 13 1 33\n",
      "81 11 77 49 65 26 29 49\n",
      "18 94\n",
      "84 2 50 51 19 58 12 90 81 68 54 73 81 31 79 85 39 2\n",
      "53 102 40 17 33 92 18 79 66 23 84 25 38 43 27 55 8 19\n",
      "8 88\n",
      "66 66 32 75 77 34 23 35\n",
      "61 17 52 20 48 11 50 5\n",
      "14 45\n",
      "11 16 43 5 25 22 19 32 10 26 2 42 16 1\n",
      "33 1 1 20 26 7 17 39 23 34 10 11 38 20\n",
      "11 59\n",
      "15 16 44 58 5 10 16 9 4 20 24\n",
      "37 45 41 46 8 23 59 57 51 44 59\n",
      "8 32\n",
      "28 14 24 25 2 20 1 26\n",
      "4 3 1 11 25 22 2 4\n",
      "6 57\n",
      "1 7 42 26 45 14\n",
      "37 49 42 26 4 11\n",
      "4 88\n",
      "25 60 49 4\n",
      "65 46 85 34\n",
      "16 9\n",
      "2 1 1 4 1 7 3 4 3 7 3 1 3 5 6 7\n",
      "1 1 1 1 4 1 2 1 7 1 1 1 1 1 1 2\n",
      "1 70\n",
      "40\n",
      "38\"\"\".split('\\n')\n",
      "\n",
      "T = int(inp[0])\n",
      "for i in range(T):\n",
      "    N, K = [int(z) for z in inp[1+3*i].strip().split()]\n",
      "    ar = [int(z) for z in inp[2+3*i].strip().split()]\n",
      "    br = [int(z) for z in inp[3+3*i].strip().split()]\n",
      "    \n",
      "    ar = sorted(ar)\n",
      "    br = list(reversed(sorted(br)))\n",
      "    result = True\n",
      "    for y in range(len(ar)):\n",
      "        if ar[y] + br[y] < K:\n",
      "            result = False\n",
      "            break\n",
      "    if result:\n",
      "        print 'YES'\n",
      "    else:\n",
      "        print 'NO'\n"
     ],
     "language": "python",
     "metadata": {},
     "outputs": [
      {
       "output_type": "stream",
       "stream": "stdout",
       "text": [
        "NO\n",
        "YES\n",
        "NO\n",
        "NO\n",
        "YES\n",
        "NO\n",
        "NO\n",
        "YES\n",
        "NO\n",
        "YES\n"
       ]
      }
     ],
     "prompt_number": 22
    },
    {
     "cell_type": "code",
     "collapsed": false,
     "input": [],
     "language": "python",
     "metadata": {},
     "outputs": []
    }
   ],
   "metadata": {}
  }
 ]
}